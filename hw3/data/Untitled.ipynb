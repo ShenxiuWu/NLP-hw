{
 "cells": [
  {
   "cell_type": "code",
   "execution_count": 8,
   "metadata": {},
   "outputs": [
    {
     "name": "stdout",
     "output_type": "stream",
     "text": [
      "93\n",
      "{'RIGHT-ARC:xcomp': 80, 'RIGHT-ARC:prep': 67, 'RIGHT-ARC:cc': 48, 'RIGHT-ARC:csubj': 55, 'LEFT-ARC:rcmod': 25, 'RIGHT-ARC:poss': 78, 'RIGHT-ARC:rcmod': 71, 'RIGHT-ARC:punct': 73, 'LEFT-ARC:nsubj': 23, 'LEFT-ARC:iobj': 42, 'RIGHT-ARC:prt': 52, 'LEFT-ARC:prep': 21, 'RIGHT-ARC:nsubjpass': 54, 'LEFT-ARC:mark': 15, 'LEFT-ARC:predet': 44, 'LEFT-ARC:advmod': 26, 'LEFT-ARC:npadvmod': 33, 'RIGHT-ARC:predet': 90, 'RIGHT-ARC:acomp': 76, 'LEFT-ARC:pcomp': 31, 'RIGHT-ARC:det': 85, 'RIGHT-ARC:dep': 83, 'LEFT-ARC:nsubjpass': 8, 'LEFT-ARC:ccomp': 4, 'RIGHT-ARC:expl': 89, 'RIGHT-ARC:advmod': 72, 'LEFT-ARC:tmod': 29, 'RIGHT-ARC:conj': 56, 'RIGHT-ARC:mwe': 64, 'RIGHT-ARC:amod': 86, 'LEFT-ARC:amod': 40, 'LEFT-ARC:mwe': 18, 'RIGHT-ARC:cop': 81, 'LEFT-ARC:cc': 2, 'LEFT-ARC:quantmod': 28, 'LEFT-ARC:prt': 6, 'LEFT-ARC:aux': 20, 'RIGHT-ARC:tmod': 75, 'RIGHT-ARC:quantmod': 74, 'LEFT-ARC:infmod': 17, 'LEFT-ARC:poss': 32, 'LEFT-ARC:conj': 10, 'RIGHT-ARC:infmod': 63, 'LEFT-ARC:pobj': 41, 'RIGHT-ARC:ccomp': 50, 'LEFT-ARC:advcl': 19, 'RIGHT-ARC:nn': 58, 'RIGHT-ARC:number': 49, 'RIGHT-ARC:possessive': 51, 'LEFT-ARC:csubj': 9, 'RIGHT-ARC:neg': 59, 'LEFT-ARC:appos': 38, 'RIGHT-ARC:preconj': 91, 'LEFT-ARC:auxpass': 16, 'RIGHT-ARC:iobj': 88, 'RIGHT-ARC:mark': 61, 'LEFT-ARC:expl': 43, 'LEFT-ARC:number': 3, 'LEFT-ARC:possessive': 5, 'RIGHT-ARC:pcomp': 77, 'LEFT-ARC:parataxis': 22, 'LEFT-ARC:acomp': 30, 'RIGHT-ARC:parataxis': 68, 'RIGHT-ARC:partmod': 82, 'RIGHT-ARC:discourse': 60, 'RIGHT-ARC:dobj': 57, 'LEFT-ARC:dep': 37, 'LEFT-ARC:det': 39, 'RIGHT-ARC:num': 53, 'LEFT-ARC:root': 46, 'LEFT-ARC:cop': 35, 'RIGHT-ARC:auxpass': 62, 'LEFT-ARC:xcomp': 34, 'LEFT-ARC:discourse': 14, 'LEFT-ARC:rroot': 1, 'SHIFT': 0, 'LEFT-ARC:<null>': 24, 'RIGHT-ARC:appos': 84, 'RIGHT-ARC:npadvmod': 79, 'RIGHT-ARC:pobj': 87, 'LEFT-ARC:partmod': 36, 'RIGHT-ARC:advcl': 65, 'RIGHT-ARC:nsubj': 69, 'LEFT-ARC:punct': 27, 'LEFT-ARC:nn': 12, 'RIGHT-ARC:root': 92, 'LEFT-ARC:num': 7, 'LEFT-ARC:dobj': 11, 'RIGHT-ARC:rroot': 47, 'RIGHT-ARC:aux': 66, 'LEFT-ARC:neg': 13, 'RIGHT-ARC:<null>': 70, 'LEFT-ARC:preconj': 45}\n"
     ]
    }
   ],
   "source": [
    "def test():\n",
    "    word_dict = {}\n",
    "    word_file = open(\"../trees/vocabs.actions\", \"r\")\n",
    "    for word_line in word_file.readlines():\n",
    "        seg = word_line.strip().split(\" \")\n",
    "        word_dict[seg[0]] = int(seg[1])\n",
    "    print(len(word_dict))\n",
    "    print(word_dict)\n",
    "test()"
   ]
  },
  {
   "cell_type": "code",
   "execution_count": 6,
   "metadata": {},
   "outputs": [
    {
     "name": "stdout",
     "output_type": "stream",
     "text": [
      "3\n"
     ]
    }
   ],
   "source": [
    "a = {\"a\":1,\"b\":2,\"c\":6}\n",
    "print(len(a))"
   ]
  },
  {
   "cell_type": "code",
   "execution_count": 7,
   "metadata": {},
   "outputs": [
    {
     "data": {
      "text/plain": [
       "Text(0,0.5,u'Loss')"
      ]
     },
     "execution_count": 7,
     "metadata": {},
     "output_type": "execute_result"
    },
    {
     "data": {
      "image/png": "[encoded data removed]",
      "text/plain": [
       "<matplotlib.figure.Figure at 0x10df75310>"
      ]
     },
     "metadata": {},
     "output_type": "display_data"
    }
   ],
   "source": [
    "import matplotlib.pyplot as plt\n",
    "plt.ion()\n",
    "ax = plt.gca()\n",
    "ax.set_xlim([0, 10])\n",
    "ax.set_ylim([0, 3])\n",
    "plt.title(\"Loss over time\")\n",
    "plt.xlabel(\"Minibatch\")\n",
    "plt.ylabel(\"Loss\")"
   ]
  },
  {
   "cell_type": "code",
   "execution_count": 9,
   "metadata": {},
   "outputs": [],
   "source": []
  },
  {
   "cell_type": "code",
   "execution_count": null,
   "metadata": {},
   "outputs": [],
   "source": []
  }
 ],
 "metadata": {
  "kernelspec": {
   "display_name": "Python 2",
   "language": "python",
   "name": "python2"
  },
  "language_info": {
   "codemirror_mode": {
    "name": "ipython",
    "version": 2
   },
   "file_extension": ".py",
   "mimetype": "text/x-python",
   "name": "python",
   "nbconvert_exporter": "python",
   "pygments_lexer": "ipython2",
   "version": "2.7.14"
  }
 },
 "nbformat": 4,
 "nbformat_minor": 2
}
